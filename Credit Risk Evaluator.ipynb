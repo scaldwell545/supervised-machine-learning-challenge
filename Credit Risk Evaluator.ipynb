{
 "cells": [
  {
   "cell_type": "code",
   "execution_count": 1,
   "metadata": {},
   "outputs": [],
   "source": [
    "import numpy as np\n",
    "# from sklearn.model_selection import train_test_split\n",
    "from sklearn.preprocessing import StandardScaler, MinMaxScaler, LabelEncoder\n",
    "from sklearn.linear_model import LogisticRegression\n",
    "from sklearn.ensemble import RandomForestClassifier\n",
    "import pandas as pd\n",
    "from pathlib import Path\n",
    "from matplotlib import pyplot as plt"
   ]
  },
  {
   "cell_type": "code",
   "execution_count": 2,
   "metadata": {},
   "outputs": [],
   "source": [
    "train_df = pd.read_csv(Path('Resources/2019loans.csv'))\n",
    "test_df = pd.read_csv(Path('Resources/2020Q1loans.csv'))"
   ]
  },
  {
   "cell_type": "code",
   "execution_count": 3,
   "metadata": {},
   "outputs": [],
   "source": [
    "## clean up column labels a little bit\n",
    "train_df = train_df.drop('Unnamed: 0', axis=1).set_index('index')\n",
    "test_df = test_df.drop('Unnamed: 0', axis=1).set_index('index')"
   ]
  },
  {
   "cell_type": "markdown",
   "metadata": {},
   "source": [
    "### Convert categorical data to numeric and separate target feature for training data"
   ]
  },
  {
   "cell_type": "code",
   "execution_count": 4,
   "metadata": {},
   "outputs": [],
   "source": [
    "# Drop the label to create the X data\n",
    "X_train = train_df.drop('loan_status', axis=1)\n",
    "# One-hot encoding the entire dataframe\n",
    "X_train_dummies = pd.get_dummies(X_train)\n",
    "# Converting output labels to 0 and 1\n",
    "y_train = LabelEncoder().fit_transform(train_df['loan_status'])"
   ]
  },
  {
   "cell_type": "markdown",
   "metadata": {},
   "source": [
    "### Convert categorical data to numeric and separate target feature for testing data"
   ]
  },
  {
   "cell_type": "code",
   "execution_count": 5,
   "metadata": {},
   "outputs": [],
   "source": [
    "# Drop the label to create the X data\n",
    "X_test = test_df.drop('loan_status', axis=1)\n",
    "# One-hot encoding the entire dataframe\n",
    "X_test_dummies = pd.get_dummies(X_test)\n",
    "# Converting output labels to 0 and 1\n",
    "y_test = LabelEncoder().fit_transform(test_df['loan_status'])"
   ]
  },
  {
   "cell_type": "markdown",
   "metadata": {},
   "source": [
    "### Add missing dummy variables to testing set"
   ]
  },
  {
   "cell_type": "code",
   "execution_count": 6,
   "metadata": {},
   "outputs": [],
   "source": [
    "# borrowed from https://stackoverflow.com/questions/41335718/keep-same-dummy-variable-in-training-and-testing-data\n",
    "# Get missing columns in the training test\n",
    "missing_cols = set( X_train_dummies.columns ) - set( X_test_dummies.columns )\n",
    "# Add a missing column in test set with default value equal to 0\n",
    "for c in missing_cols:\n",
    "    X_test_dummies[c] = 0\n",
    "# Ensure the order of column in the test set is in the same order than in train set\n",
    "X_test_dummies = X_test_dummies[X_train_dummies.columns]"
   ]
  },
  {
   "cell_type": "markdown",
   "metadata": {},
   "source": [
    "### Prediction \n",
    "I believe that, since we have a high number of explanatory variables in our dataset, that the random forest model should perform better than the logistic regression. However, I believe that if we had fewer dimensions to our dataset, it's possible that the logistic regression would perform similarly to the random forest classification."
   ]
  },
  {
   "cell_type": "markdown",
   "metadata": {},
   "source": [
    "### Train the Logistic Regression model on the unscaled data and print the model score"
   ]
  },
  {
   "cell_type": "code",
   "execution_count": 7,
   "metadata": {},
   "outputs": [
    {
     "name": "stderr",
     "output_type": "stream",
     "text": [
      "C:\\Users\\sceli\\anaconda3\\lib\\site-packages\\sklearn\\linear_model\\_logistic.py:763: ConvergenceWarning: lbfgs failed to converge (status=1):\n",
      "STOP: TOTAL NO. of ITERATIONS REACHED LIMIT.\n",
      "\n",
      "Increase the number of iterations (max_iter) or scale the data as shown in:\n",
      "    https://scikit-learn.org/stable/modules/preprocessing.html\n",
      "Please also refer to the documentation for alternative solver options:\n",
      "    https://scikit-learn.org/stable/modules/linear_model.html#logistic-regression\n",
      "  n_iter_i = _check_optimize_result(\n"
     ]
    },
    {
     "data": {
      "text/plain": [
       "LogisticRegression()"
      ]
     },
     "execution_count": 7,
     "metadata": {},
     "output_type": "execute_result"
    }
   ],
   "source": [
    "classifier = LogisticRegression()\n",
    "classifier.fit(X_train_dummies, y_train)"
   ]
  },
  {
   "cell_type": "code",
   "execution_count": 8,
   "metadata": {},
   "outputs": [
    {
     "name": "stdout",
     "output_type": "stream",
     "text": [
      "Training Data Score: 0.6507389162561577\n",
      "Testing Data Score: 0.5168013611229264\n"
     ]
    }
   ],
   "source": [
    "print(f\"Training Data Score: {classifier.score(X_train_dummies, y_train)}\")\n",
    "print(f\"Testing Data Score: {classifier.score(X_test_dummies, y_test)}\")"
   ]
  },
  {
   "cell_type": "markdown",
   "metadata": {},
   "source": [
    "### Train a Random Forest Classifier model and print the model score"
   ]
  },
  {
   "cell_type": "code",
   "execution_count": 9,
   "metadata": {},
   "outputs": [
    {
     "name": "stdout",
     "output_type": "stream",
     "text": [
      "Training Score: 1.0\n",
      "Testing Score: 0.6433432581880051\n"
     ]
    }
   ],
   "source": [
    "clf_1 = RandomForestClassifier(random_state=1, n_estimators=500).fit(X_train_dummies, y_train)\n",
    "print(f'Training Score: {clf_1.score(X_train_dummies, y_train)}')\n",
    "print(f'Testing Score: {clf_1.score(X_test_dummies, y_test)}')"
   ]
  },
  {
   "cell_type": "markdown",
   "metadata": {},
   "source": [
    "### Results\n",
    "Although neither model had a particularly high (or, rather, satisfactory) accuracy score, I was correct in suggesting the random forest model would perform better. Whether that is due to my explanation, though, is unknown."
   ]
  },
  {
   "cell_type": "markdown",
   "metadata": {},
   "source": [
    "### Scale the data"
   ]
  },
  {
   "cell_type": "code",
   "execution_count": 10,
   "metadata": {},
   "outputs": [],
   "source": [
    "scaler = StandardScaler().fit(X_train_dummies)\n",
    "X_train_scaled = scaler.transform(X_train_dummies)\n",
    "X_test_scaled = scaler.transform(X_test_dummies)"
   ]
  },
  {
   "cell_type": "markdown",
   "metadata": {},
   "source": [
    "### Train the Logistic Regression model on the scaled data and print the model score"
   ]
  },
  {
   "cell_type": "code",
   "execution_count": 11,
   "metadata": {},
   "outputs": [
    {
     "name": "stderr",
     "output_type": "stream",
     "text": [
      "C:\\Users\\sceli\\anaconda3\\lib\\site-packages\\sklearn\\linear_model\\_logistic.py:763: ConvergenceWarning: lbfgs failed to converge (status=1):\n",
      "STOP: TOTAL NO. of ITERATIONS REACHED LIMIT.\n",
      "\n",
      "Increase the number of iterations (max_iter) or scale the data as shown in:\n",
      "    https://scikit-learn.org/stable/modules/preprocessing.html\n",
      "Please also refer to the documentation for alternative solver options:\n",
      "    https://scikit-learn.org/stable/modules/linear_model.html#logistic-regression\n",
      "  n_iter_i = _check_optimize_result(\n"
     ]
    },
    {
     "data": {
      "text/plain": [
       "LogisticRegression()"
      ]
     },
     "execution_count": 11,
     "metadata": {},
     "output_type": "execute_result"
    }
   ],
   "source": [
    "classifier = LogisticRegression()\n",
    "classifier.fit(X_train_scaled, y_train)"
   ]
  },
  {
   "cell_type": "markdown",
   "metadata": {},
   "source": [
    "### Prediction\n",
    "Again, I think that the random forest model will perform better than the logistic regression. However, scaling the data may help our logistic regression perform better than the previous model. In either case, I feel that scaling the data will benefit both models."
   ]
  },
  {
   "cell_type": "code",
   "execution_count": 12,
   "metadata": {},
   "outputs": [
    {
     "name": "stdout",
     "output_type": "stream",
     "text": [
      "Training Data Score: 0.7078817733990148\n",
      "Testing Data Score: 0.767333049766057\n"
     ]
    }
   ],
   "source": [
    "print(f\"Training Data Score: {classifier.score(X_train_scaled, y_train)}\")\n",
    "print(f\"Testing Data Score: {classifier.score(X_test_scaled, y_test)}\")"
   ]
  },
  {
   "cell_type": "markdown",
   "metadata": {},
   "source": [
    "### Train a Random Forest Classifier model on the scaled data and print the model score"
   ]
  },
  {
   "cell_type": "code",
   "execution_count": 13,
   "metadata": {},
   "outputs": [
    {
     "name": "stdout",
     "output_type": "stream",
     "text": [
      "Training Score: 1.0\n",
      "Testing Score: 0.6420672054444917\n"
     ]
    }
   ],
   "source": [
    "clf_2 = RandomForestClassifier(random_state=1, n_estimators=500).fit(X_train_scaled, y_train)\n",
    "print(f'Training Score: {clf_2.score(X_train_scaled, y_train)}')\n",
    "print(f'Testing Score: {clf_2.score(X_test_scaled, y_test)}')"
   ]
  },
  {
   "cell_type": "markdown",
   "metadata": {},
   "source": [
    "### Results\n",
    "It appears that my prediction was wrong. The logistic regression actually outperformed the random forest model. Scaling the data didn't seem to have any affect on the accuracy of the random forest model's ability to perform predictions."
   ]
  },
  {
   "cell_type": "code",
   "execution_count": 14,
   "metadata": {},
   "outputs": [
    {
     "name": "stdout",
     "output_type": "stream",
     "text": [
      "[1.62679463e-02 3.45485047e-02 2.98657372e-02 1.46144695e-02\n",
      " 1.61086591e-02 2.93790795e-03 4.24775904e-03 8.90605979e-03\n",
      " 1.45871591e-03 1.52099714e-02 1.18468431e-02 2.94155218e-02\n",
      " 2.94587834e-02 4.35297967e-02 4.38158387e-02 5.11266480e-02\n",
      " 4.85751463e-02 1.63380968e-02 0.00000000e+00 0.00000000e+00\n",
      " 9.50429837e-02 7.68347729e-04 0.00000000e+00 4.85641668e-06\n",
      " 4.48273778e-03 1.36502159e-02 4.70734340e-03 6.36931003e-03\n",
      " 4.11118884e-03 6.44932197e-03 1.19289920e-02 1.35889955e-02\n",
      " 1.40696769e-02 4.83647186e-03 7.45463259e-03 1.69871914e-02\n",
      " 1.33222729e-02 1.54842126e-02 6.50752036e-03 6.72380732e-03\n",
      " 7.94603986e-03 9.50606273e-03 1.41975228e-02 1.57105454e-02\n",
      " 1.44976314e-02 2.61747130e-04 1.10129617e-06 1.58065408e-02\n",
      " 1.70075638e-02 1.19802666e-02 1.00446397e-02 5.62887191e-03\n",
      " 1.33503761e-02 1.21188589e-02 3.46059741e-03 6.97577709e-03\n",
      " 7.79427623e-03 7.60433284e-03 9.23415471e-03 1.09188155e-02\n",
      " 8.62871111e-03 1.02816420e-02 7.63861169e-03 8.86113480e-03\n",
      " 0.00000000e+00 1.05099196e-05 9.68549416e-04 6.69191747e-03\n",
      " 8.88265624e-03 8.23456327e-03 1.40248337e-03 0.00000000e+00\n",
      " 1.39631737e-02 1.38367574e-02 1.58523928e-02 1.38880185e-02\n",
      " 2.22175678e-04 1.90045758e-03 1.60884470e-03 1.73608122e-03\n",
      " 1.99224304e-03 1.98400615e-03 1.72042576e-03 0.00000000e+00\n",
      " 1.20325813e-03 1.19121274e-03 1.50850807e-03 1.55443237e-03\n",
      " 2.67261862e-03 2.68227990e-03 3.34084619e-05 4.07186561e-05]\n"
     ]
    },
    {
     "data": {
      "image/png": "[encoded data removed]",
      "text/plain": [
       "<Figure size 432x288 with 1 Axes>"
      ]
     },
     "metadata": {
      "needs_background": "light"
     },
     "output_type": "display_data"
    }
   ],
   "source": [
    "features = clf_2.feature_importances_\n",
    "print(features)\n",
    "plt.bar(x = range(len(features)), height=features)\n",
    "plt.show()"
   ]
  },
  {
   "cell_type": "code",
   "execution_count": null,
   "metadata": {},
   "outputs": [],
   "source": []
  }
 ],
 "metadata": {
  "kernelspec": {
   "display_name": "Python 3",
   "language": "python",
   "name": "python3"
  },
  "language_info": {
   "codemirror_mode": {
    "name": "ipython",
    "version": 3
   },
   "file_extension": ".py",
   "mimetype": "text/x-python",
   "name": "python",
   "nbconvert_exporter": "python",
   "pygments_lexer": "ipython3",
   "version": "3.8.5"
  }
 },
 "nbformat": 4,
 "nbformat_minor": 4
}
